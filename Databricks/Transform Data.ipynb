{
 "cells": [
  {
   "cell_type": "code",
   "execution_count": 0,
   "metadata": {
    "application/vnd.databricks.v1+cell": {
     "cellMetadata": {
      "byteLimit": 2048000,
      "rowLimit": 10000
     },
     "inputWidgets": {},
     "nuid": "05280cb6-25a4-4b7d-b352-32e8e0fb4e8d",
     "showTitle": false,
     "tableResultSettingsMap": {},
     "title": ""
    }
   },
   "outputs": [
    {
     "output_type": "execute_result",
     "data": {
      "text/plain": [
       "[SecretMetadata(key='clientsecretretail')]"
      ]
     },
     "execution_count": 2,
     "metadata": {},
     "output_type": "execute_result"
    }
   ],
   "source": [
    "dbutils.secrets.list('dbclientretail')\n"
   ]
  },
  {
   "cell_type": "code",
   "execution_count": 0,
   "metadata": {
    "application/vnd.databricks.v1+cell": {
     "cellMetadata": {
      "byteLimit": 2048000,
      "rowLimit": 10000
     },
     "inputWidgets": {},
     "nuid": "bc4c0e75-7124-4a9e-80db-c1976e0ee052",
     "showTitle": false,
     "tableResultSettingsMap": {},
     "title": ""
    }
   },
   "outputs": [],
   "source": [
    "secret=dbutils.secrets.get('dbclientretail','clientsecretretail')"
   ]
  },
  {
   "cell_type": "code",
   "execution_count": 0,
   "metadata": {
    "application/vnd.databricks.v1+cell": {
     "cellMetadata": {
      "byteLimit": 2048000,
      "rowLimit": 10000
     },
     "inputWidgets": {},
     "nuid": "89931401-b587-4a79-8a42-3957c932aabf",
     "showTitle": false,
     "tableResultSettingsMap": {},
     "title": ""
    }
   },
   "outputs": [],
   "source": [
    "# Service Principal credentials and configurations\n",
    "client_id= \"6e518dc2-6192-4de7-bfd8-a2081c0ed276\"\n",
    "client_secret = secret\n",
    "directory_id= \"80afa3f4-1563-46f1-a268-04f5fb610dd9\"\n",
    "\n",
    "# Access storage account using Service Principal\n",
    "configs = {\"fs.azure.account.auth.type\": \"OAuth\",\n",
    "           \"fs.azure.account.oauth.provider.type\": \"org.apache.hadoop.fs.azurebfs.oauth2.ClientCredsTokenProvider\",\n",
    "           \"fs.azure.account.oauth2.client.id\": f\"{client_id}\",\n",
    "           \"fs.azure.account.oauth2.client.secret\": f\"{client_secret}\",\n",
    "           \"fs.azure.account.oauth2.client.endpoint\": f\"https://login.microsoftonline.com/{directory_id}/oauth2/token\"}\n"
   ]
  },
  {
   "cell_type": "code",
   "execution_count": 0,
   "metadata": {
    "application/vnd.databricks.v1+cell": {
     "cellMetadata": {
      "byteLimit": 2048000,
      "rowLimit": 10000
     },
     "inputWidgets": {},
     "nuid": "9321ce60-821f-4e5c-bdf4-332b41ec2fbd",
     "showTitle": false,
     "tableResultSettingsMap": {},
     "title": ""
    }
   },
   "outputs": [
    {
     "output_type": "stream",
     "name": "stdout",
     "output_type": "stream",
     "text": [
      "/mnt/dlretail/raw has been unmounted.\nUnmounted existing mount at /mnt/dlretail/raw\nMounted raw successfully at /mnt/dlretail/raw\n"
     ]
    }
   ],
   "source": [
    "storage_account_name = \"dlretail\"\n",
    "container_name = \"raw\"\n",
    "processed_container_name = \"curated\"\n",
    "\n",
    "mount_point = f\"/mnt/{storage_account_name}/{container_name}\"\n",
    "\n",
    "if any(mount.mountPoint == mount_point for mount in dbutils.fs.mounts()):\n",
    "    # Unmount the existing mount point\n",
    "    dbutils.fs.unmount(mount_point)\n",
    "    print(f\"Unmounted existing mount at {mount_point}\")\n",
    "\n",
    "try:\n",
    "    dbutils.fs.mount(\n",
    "        source=f\"abfss://{container_name}@{storage_account_name}.dfs.core.windows.net/\",\n",
    "        mount_point=mount_point,\n",
    "        extra_configs=configs\n",
    "    )\n",
    "    print(f\"Mounted {container_name} successfully at {mount_point}\")\n",
    "except Exception as e:\n",
    "    print(f\"Error mounting: {e}\")"
   ]
  },
  {
   "cell_type": "code",
   "execution_count": 0,
   "metadata": {
    "application/vnd.databricks.v1+cell": {
     "cellMetadata": {
      "byteLimit": 2048000,
      "rowLimit": 10000
     },
     "inputWidgets": {},
     "nuid": "a075a514-06f3-47d1-8c0d-176669e969e1",
     "showTitle": false,
     "tableResultSettingsMap": {},
     "title": ""
    }
   },
   "outputs": [
    {
     "output_type": "execute_result",
     "data": {
      "text/plain": [
       "[FileInfo(path='dbfs:/mnt/dlretail/raw/address.csv', name='address.csv', size=39775, modificationTime=1732363959000),\n",
       " FileInfo(path='dbfs:/mnt/dlretail/raw/city.csv', name='city.csv', size=15349, modificationTime=1732363974000),\n",
       " FileInfo(path='dbfs:/mnt/dlretail/raw/country.csv', name='country.csv', size=2455, modificationTime=1732363989000),\n",
       " FileInfo(path='dbfs:/mnt/dlretail/raw/customer.csv', name='customer.csv', size=50056, modificationTime=1732364006000),\n",
       " FileInfo(path='dbfs:/mnt/dlretail/raw/employees.csv', name='employees.csv', size=290, modificationTime=1732363941000)]"
      ]
     },
     "execution_count": 6,
     "metadata": {},
     "output_type": "execute_result"
    }
   ],
   "source": [
    "#files in the mounted container\n",
    "dbutils.fs.ls(\"/mnt/dlretail/raw\")"
   ]
  },
  {
   "cell_type": "code",
   "execution_count": 0,
   "metadata": {
    "application/vnd.databricks.v1+cell": {
     "cellMetadata": {
      "byteLimit": 2048000,
      "rowLimit": 10000
     },
     "inputWidgets": {},
     "nuid": "eddd947f-815a-49c8-b079-4bee2fd9d5bc",
     "showTitle": false,
     "tableResultSettingsMap": {},
     "title": ""
    }
   },
   "outputs": [
    {
     "output_type": "display_data",
     "data": {
      "text/html": [
       "<style scoped>\n",
       "  .table-result-container {\n",
       "    max-height: 300px;\n",
       "    overflow: auto;\n",
       "  }\n",
       "  table, th, td {\n",
       "    border: 1px solid black;\n",
       "    border-collapse: collapse;\n",
       "  }\n",
       "  th, td {\n",
       "    padding: 5px;\n",
       "  }\n",
       "  th {\n",
       "    text-align: left;\n",
       "  }\n",
       "</style><div class='table-result-container'><table class='table-result'><thead style='background-color: white'><tr><th>mountPoint</th><th>source</th><th>encryptionType</th></tr></thead><tbody><tr><td>/databricks-datasets</td><td>databricks-datasets</td><td></td></tr><tr><td>/Volumes</td><td>UnityCatalogVolumes</td><td></td></tr><tr><td>/databricks/mlflow-tracking</td><td>databricks/mlflow-tracking</td><td></td></tr><tr><td>/databricks-results</td><td>databricks-results</td><td></td></tr><tr><td>/databricks/mlflow-registry</td><td>databricks/mlflow-registry</td><td></td></tr><tr><td>/mnt/dlretail/curated</td><td>abfss://curated@dlretail.dfs.core.windows.net/</td><td></td></tr><tr><td>/Volume</td><td>DbfsReserved</td><td></td></tr><tr><td>/volumes</td><td>DbfsReserved</td><td></td></tr><tr><td>/mnt/dlretail/raw</td><td>abfss://raw@dlretail.dfs.core.windows.net/</td><td></td></tr><tr><td>/</td><td>DatabricksRoot</td><td></td></tr><tr><td>/volume</td><td>DbfsReserved</td><td></td></tr></tbody></table></div>"
      ]
     },
     "metadata": {
      "application/vnd.databricks.v1+output": {
       "addedWidgets": {},
       "aggData": [],
       "aggError": "",
       "aggOverflow": false,
       "aggSchema": [],
       "aggSeriesLimitReached": false,
       "aggType": "",
       "arguments": {},
       "columnCustomDisplayInfos": {},
       "data": [
        [
         "/databricks-datasets",
         "databricks-datasets",
         ""
        ],
        [
         "/Volumes",
         "UnityCatalogVolumes",
         ""
        ],
        [
         "/databricks/mlflow-tracking",
         "databricks/mlflow-tracking",
         ""
        ],
        [
         "/databricks-results",
         "databricks-results",
         ""
        ],
        [
         "/databricks/mlflow-registry",
         "databricks/mlflow-registry",
         ""
        ],
        [
         "/mnt/dlretail/curated",
         "abfss://curated@dlretail.dfs.core.windows.net/",
         ""
        ],
        [
         "/Volume",
         "DbfsReserved",
         ""
        ],
        [
         "/volumes",
         "DbfsReserved",
         ""
        ],
        [
         "/mnt/dlretail/raw",
         "abfss://raw@dlretail.dfs.core.windows.net/",
         ""
        ],
        [
         "/",
         "DatabricksRoot",
         ""
        ],
        [
         "/volume",
         "DbfsReserved",
         ""
        ]
       ],
       "datasetInfos": [],
       "dbfsResultPath": null,
       "isJsonSchema": true,
       "metadata": {},
       "overflow": false,
       "plotOptions": {
        "customPlotOptions": {},
        "displayType": "table",
        "pivotAggregation": null,
        "pivotColumns": null,
        "xColumns": null,
        "yColumns": null
       },
       "removedWidgets": [],
       "schema": [
        {
         "metadata": "{}",
         "name": "mountPoint",
         "type": "\"string\""
        },
        {
         "metadata": "{}",
         "name": "source",
         "type": "\"string\""
        },
        {
         "metadata": "{}",
         "name": "encryptionType",
         "type": "\"string\""
        }
       ],
       "type": "table"
      }
     },
     "output_type": "display_data"
    }
   ],
   "source": [
    "#display mounts\n",
    "display(dbutils.fs.mounts())"
   ]
  },
  {
   "cell_type": "code",
   "execution_count": 0,
   "metadata": {
    "application/vnd.databricks.v1+cell": {
     "cellMetadata": {
      "byteLimit": 2048000,
      "rowLimit": 10000
     },
     "inputWidgets": {},
     "nuid": "5f39c7bf-b45b-434b-a677-7d9dfca33dcf",
     "showTitle": false,
     "tableResultSettingsMap": {},
     "title": ""
    }
   },
   "outputs": [
    {
     "output_type": "display_data",
     "data": {
      "text/html": [
       "<style scoped>\n",
       "  .table-result-container {\n",
       "    max-height: 300px;\n",
       "    overflow: auto;\n",
       "  }\n",
       "  table, th, td {\n",
       "    border: 1px solid black;\n",
       "    border-collapse: collapse;\n",
       "  }\n",
       "  th, td {\n",
       "    padding: 5px;\n",
       "  }\n",
       "  th {\n",
       "    text-align: left;\n",
       "  }\n",
       "</style><div class='table-result-container'><table class='table-result'><thead style='background-color: white'><tr><th>path</th><th>name</th><th>size</th><th>modificationTime</th></tr></thead><tbody><tr><td>dbfs:/mnt/dlretail/raw/address.csv</td><td>address.csv</td><td>39775</td><td>1732363959000</td></tr><tr><td>dbfs:/mnt/dlretail/raw/city.csv</td><td>city.csv</td><td>15349</td><td>1732363974000</td></tr><tr><td>dbfs:/mnt/dlretail/raw/country.csv</td><td>country.csv</td><td>2455</td><td>1732363989000</td></tr><tr><td>dbfs:/mnt/dlretail/raw/customer.csv</td><td>customer.csv</td><td>50056</td><td>1732364006000</td></tr><tr><td>dbfs:/mnt/dlretail/raw/employees.csv</td><td>employees.csv</td><td>290</td><td>1732363941000</td></tr></tbody></table></div>"
      ]
     },
     "metadata": {
      "application/vnd.databricks.v1+output": {
       "addedWidgets": {},
       "aggData": [],
       "aggError": "",
       "aggOverflow": false,
       "aggSchema": [],
       "aggSeriesLimitReached": false,
       "aggType": "",
       "arguments": {},
       "columnCustomDisplayInfos": {},
       "data": [
        [
         "dbfs:/mnt/dlretail/raw/address.csv",
         "address.csv",
         39775,
         1732363959000
        ],
        [
         "dbfs:/mnt/dlretail/raw/city.csv",
         "city.csv",
         15349,
         1732363974000
        ],
        [
         "dbfs:/mnt/dlretail/raw/country.csv",
         "country.csv",
         2455,
         1732363989000
        ],
        [
         "dbfs:/mnt/dlretail/raw/customer.csv",
         "customer.csv",
         50056,
         1732364006000
        ],
        [
         "dbfs:/mnt/dlretail/raw/employees.csv",
         "employees.csv",
         290,
         1732363941000
        ]
       ],
       "datasetInfos": [],
       "dbfsResultPath": null,
       "isJsonSchema": true,
       "metadata": {},
       "overflow": false,
       "plotOptions": {
        "customPlotOptions": {},
        "displayType": "table",
        "pivotAggregation": null,
        "pivotColumns": null,
        "xColumns": null,
        "yColumns": null
       },
       "removedWidgets": [],
       "schema": [
        {
         "metadata": "{}",
         "name": "path",
         "type": "\"string\""
        },
        {
         "metadata": "{}",
         "name": "name",
         "type": "\"string\""
        },
        {
         "metadata": "{}",
         "name": "size",
         "type": "\"long\""
        },
        {
         "metadata": "{}",
         "name": "modificationTime",
         "type": "\"long\""
        }
       ],
       "type": "table"
      }
     },
     "output_type": "display_data"
    }
   ],
   "source": [
    "#files in the mounted container\n",
    "display(dbutils.fs.ls(mount_point))"
   ]
  },
  {
   "cell_type": "code",
   "execution_count": 0,
   "metadata": {
    "application/vnd.databricks.v1+cell": {
     "cellMetadata": {
      "byteLimit": 2048000,
      "rowLimit": 10000
     },
     "inputWidgets": {},
     "nuid": "34137328-d8fd-4b41-ae8c-0d1a9378a06b",
     "showTitle": false,
     "tableResultSettingsMap": {},
     "title": ""
    }
   },
   "outputs": [
    {
     "output_type": "stream",
     "name": "stdout",
     "output_type": "stream",
     "text": [
      "+----------+--------------------+--------+--------------+-------+-----------+-----------+-----------+\n|address_id|             address|address2|      district|city_id|postal_code|      phone|last_update|\n+----------+--------------------+--------+--------------+-------+-----------+-----------+-----------+\n|         1|   47 MySakila Drive|    NULL|       Alberta|    300|       NULL|       NULL|       NULL|\n|         2|  28 MySQL Boulevard|    NULL|           QLD|    576|       NULL|       NULL|       NULL|\n|         3|   23 Workhaven Lane|    NULL|       Alberta|    300|       NULL|14033335568|       NULL|\n|         4|1411 Lillydale Drive|    NULL|           QLD|    576|       NULL| 6172235589|       NULL|\n|         5|      1913 Hanoi Way|    NULL|      Nagasaki|    463|      35200|28303384290|       NULL|\n|         6|    1121 Loja Avenue|    NULL|    California|    449|      17886|8.38635E+11|       NULL|\n|         7|   692 Joliet Street|    NULL|        Attika|     38|      83579|4.48477E+11|       NULL|\n|         8|    1566 Inegl Manor|    NULL|      Mandalay|    349|      53561|7.05814E+11|       NULL|\n|         9|     53 Idfu Parkway|    NULL|        Nantou|    361|      42399|10655648674|       NULL|\n|        10|1795 Santiago de ...|    NULL|         Texas|    295|      18743|8.60453E+11|       NULL|\n|        11|900 Santiago de C...|    NULL|Central Serbia|    280|      93896|7.16571E+11|       NULL|\n|        12|      478 Joliet Way|    NULL|      Hamilton|    200|      77948|6.57282E+11|       NULL|\n|        13|   613 Korolev Drive|    NULL|        Masqat|    329|      45844|3.80658E+11|       NULL|\n|        14|      1531 Sal Drive|    NULL|       Esfahan|    162|      53628|6.48857E+11|       NULL|\n|        15| 1542 Tarlac Parkway|    NULL|      Kanagawa|    440|       1027|6.35297E+11|       NULL|\n+----------+--------------------+--------+--------------+-------+-----------+-----------+-----------+\nonly showing top 15 rows\n\n+-------+------------------+----------+-----------+\n|city_id|              city|country_id|last_update|\n+-------+------------------+----------+-----------+\n|      1|A Corua (La Corua)|        87|       NULL|\n|      2|              Abha|        82|       NULL|\n|      3|         Abu Dhabi|       101|       NULL|\n|      4|              Acua|        60|       NULL|\n|      5|             Adana|        97|       NULL|\n|      6|       Addis Abeba|        31|       NULL|\n|      7|              Aden|       107|       NULL|\n|      8|             Adoni|        44|       NULL|\n|      9|        Ahmadnagar|        44|       NULL|\n|     10|          Akishima|        50|       NULL|\n|     11|             Akron|       103|       NULL|\n|     12|            al-Ayn|       101|       NULL|\n|     13|         al-Hawiya|        82|       NULL|\n|     14|         al-Manama|        11|       NULL|\n|     15|        al-Qadarif|        89|       NULL|\n+-------+------------------+----------+-----------+\nonly showing top 15 rows\n\n+----------+--------------+-----------+\n|country_id|       country|last_update|\n+----------+--------------+-----------+\n|         1|   Afghanistan|       NULL|\n|         2|       Algeria|       NULL|\n|         3|American Samoa|       NULL|\n|         4|        Angola|       NULL|\n|         5|      Anguilla|       NULL|\n|         6|     Argentina|       NULL|\n|         7|       Armenia|       NULL|\n|         8|     Australia|       NULL|\n|         9|       Austria|       NULL|\n|        10|    Azerbaijan|       NULL|\n|        11|       Bahrain|       NULL|\n|        12|    Bangladesh|       NULL|\n|        13|       Belarus|       NULL|\n|        14|       Bolivia|       NULL|\n|        15|        Brazil|       NULL|\n+----------+--------------+-----------+\nonly showing top 15 rows\n\n+-----------+--------+----------+---------+--------------------+----------+----------+-------------------+-----------+------+\n|customer_id|store_id|first_name|last_name|               email|address_id|activebool|        create_date|last_update|active|\n+-----------+--------+----------+---------+--------------------+----------+----------+-------------------+-----------+------+\n|        524|       1|     Jared|      Ely|jared.ely@sakilac...|       530|      TRUE|2006-02-14 00:00:00|       NULL|     1|\n|          1|       1|      Mary|    Smith|mary.smith@sakila...|         5|      TRUE|2006-02-14 00:00:00|       NULL|     1|\n|          2|       1|  Patricia|  Johnson|patricia.johnson@...|         6|      TRUE|2006-02-14 00:00:00|       NULL|     1|\n|          3|       1|     Linda| Williams|linda.williams@sa...|         7|      TRUE|2006-02-14 00:00:00|       NULL|     1|\n|          4|       2|   Barbara|    Jones|barbara.jones@sak...|         8|      TRUE|2006-02-14 00:00:00|       NULL|     1|\n|          5|       1| Elizabeth|    Brown|elizabeth.brown@s...|         9|      TRUE|2006-02-14 00:00:00|       NULL|     1|\n|          6|       2|  Jennifer|    Davis|jennifer.davis@sa...|        10|      TRUE|2006-02-14 00:00:00|       NULL|     1|\n|          7|       1|     Maria|   Miller|maria.miller@saki...|        11|      TRUE|2006-02-14 00:00:00|       NULL|     1|\n|          8|       2|     Susan|   Wilson|susan.wilson@saki...|        12|      TRUE|2006-02-14 00:00:00|       NULL|     1|\n|          9|       2|  Margaret|    Moore|margaret.moore@sa...|        13|      TRUE|2006-02-14 00:00:00|       NULL|     1|\n|         10|       1|   Dorothy|   Taylor|dorothy.taylor@sa...|        14|      TRUE|2006-02-14 00:00:00|       NULL|     1|\n|         11|       2|      Lisa| Anderson|lisa.anderson@sak...|        15|      TRUE|2006-02-14 00:00:00|       NULL|     1|\n|         12|       1|     Nancy|   Thomas|nancy.thomas@saki...|        16|      TRUE|2006-02-14 00:00:00|       NULL|     1|\n|         13|       2|     Karen|  Jackson|karen.jackson@sak...|        17|      TRUE|2006-02-14 00:00:00|       NULL|     1|\n|         14|       2|     Betty|    White|betty.white@sakil...|        18|      TRUE|2006-02-14 00:00:00|       NULL|     1|\n+-----------+--------+----------+---------+--------------------+----------+----------+-------------------+-----------+------+\nonly showing top 15 rows\n\n+------+----------+---------+-------------------+-------------------+------+\n|emp_id|first_name|last_name|          birthdate|          hire_date|Salary|\n+------+----------+---------+-------------------+-------------------+------+\n|     3|      Jose| Portilla|1997-11-03 00:00:00|2010-01-01 00:00:00| 100.0|\n|     4|       Sam|    Smith|1995-11-03 00:00:00|2008-01-01 00:00:00| 100.0|\n|     5|       Sid|    Peter|1996-11-03 00:00:00|2020-01-01 00:00:00|  87.0|\n+------+----------+---------+-------------------+-------------------+------+\n\n"
     ]
    }
   ],
   "source": [
    "from pyspark.sql.functions import col\n",
    "from pyspark.sql.types import *\n",
    "\n",
    "# Schema for File 1\n",
    "schema_address = StructType([\n",
    "    StructField(\"address_id\", IntegerType(), True),\n",
    "    StructField(\"address\", StringType(), True),\n",
    "    StructField(\"address2\", StringType(), True),\n",
    "    StructField(\"district\", StringType(), True),\n",
    "    StructField(\"city_id\", IntegerType(), True),\n",
    "    StructField(\"postal_code\", StringType(), True),\n",
    "    StructField(\"phone\", StringType(), True),\n",
    "    StructField(\"last_update\", TimestampType(), True)\n",
    "])\n",
    "\n",
    "# Schema for File 2\n",
    "schema_city = StructType([\n",
    "    StructField(\"city_id\", IntegerType(), True),\n",
    "    StructField(\"city\", StringType(), True),\n",
    "    StructField(\"country_id\", IntegerType(), True),\n",
    "    StructField(\"last_update\", TimestampType(), True)\n",
    "])\n",
    "\n",
    "# Schema for File 3\n",
    "schema_country = StructType([\n",
    "    StructField(\"country_id\", IntegerType(), True),\n",
    "    StructField(\"country\", StringType(), True),\n",
    "    StructField(\"last_update\", TimestampType(), True)\n",
    "])\n",
    "\n",
    "# Schema for File 4\n",
    "schema_customer = StructType([\n",
    "    StructField(\"customer_id\", IntegerType(), True),\n",
    "    StructField(\"store_id\", IntegerType(), True),\n",
    "    StructField(\"first_name\", StringType(), True),\n",
    "    StructField(\"last_name\", StringType(), True),\n",
    "    StructField(\"email\", StringType(), True),\n",
    "    StructField(\"address_id\", IntegerType(), True),\n",
    "    StructField(\"activebool\", StringType(), True),\n",
    "    StructField(\"create_date\", TimestampType(), True),\n",
    "    StructField(\"last_update\", TimestampType(), True),\n",
    "    StructField(\"active\", IntegerType(), True)\n",
    "    \n",
    "])\n",
    "\n",
    "# Schema for File 5\n",
    "schema_employees = StructType([\n",
    "    StructField(\"emp_id\", IntegerType(), True),\n",
    "    StructField(\"first_name\", StringType(), True),\n",
    "    StructField(\"last_name\", StringType(), True),\n",
    "    StructField(\"birthdate\", TimestampType(), True),\n",
    "    StructField(\"hire_date\",TimestampType(), True),\n",
    "    StructField(\"Salary\", DoubleType(), True),\n",
    "])\n",
    "\n",
    "df1 = spark.read.schema(schema_address).csv(f\"/mnt/{storage_account_name}/{container_name}/address.csv\", header=True)\n",
    "df2 = spark.read.schema(schema_city).csv(f\"/mnt/{storage_account_name}/{container_name}/city.csv\", header=True)\n",
    "df3 = spark.read.schema(schema_country).csv(f\"/mnt/{storage_account_name}/{container_name}/country.csv\", header=True)\n",
    "df4 = spark.read.schema(schema_customer).csv(f\"/mnt/{storage_account_name}/{container_name}/customer.csv\", header=True)\n",
    "df5 = spark.read.schema(schema_employees).csv(f\"/mnt/{storage_account_name}/{container_name}/employees.csv\", header=True)                     \n",
    "\n",
    "df1.show(15)\n",
    "df2.show(15)\n",
    "df3.show(15)\n",
    "df4.show(15)\n",
    "df5.show(15)"
   ]
  },
  {
   "cell_type": "code",
   "execution_count": 0,
   "metadata": {
    "application/vnd.databricks.v1+cell": {
     "cellMetadata": {
      "byteLimit": 2048000,
      "rowLimit": 10000
     },
     "inputWidgets": {},
     "nuid": "25662916-9adb-4d08-8a5d-4644f18b56df",
     "showTitle": false,
     "tableResultSettingsMap": {},
     "title": ""
    }
   },
   "outputs": [
    {
     "output_type": "stream",
     "name": "stdout",
     "output_type": "stream",
     "text": [
      "+----------+--------------------+--------------+-------+-----------+-----------+\n|address_id|             address|      district|city_id|postal_code|      phone|\n+----------+--------------------+--------------+-------+-----------+-----------+\n|         1|   47 MySakila Drive|       Alberta|    300|       NULL|       NULL|\n|         2|  28 MySQL Boulevard|           QLD|    576|       NULL|       NULL|\n|         3|   23 Workhaven Lane|       Alberta|    300|       NULL|14033335568|\n|         4|1411 Lillydale Drive|           QLD|    576|       NULL| 6172235589|\n|         5|      1913 Hanoi Way|      Nagasaki|    463|      35200|28303384290|\n|         6|    1121 Loja Avenue|    California|    449|      17886|8.38635E+11|\n|         7|   692 Joliet Street|        Attika|     38|      83579|4.48477E+11|\n|         8|    1566 Inegl Manor|      Mandalay|    349|      53561|7.05814E+11|\n|         9|     53 Idfu Parkway|        Nantou|    361|      42399|10655648674|\n|        10|1795 Santiago de ...|         Texas|    295|      18743|8.60453E+11|\n|        11|900 Santiago de C...|Central Serbia|    280|      93896|7.16571E+11|\n|        12|      478 Joliet Way|      Hamilton|    200|      77948|6.57282E+11|\n|        13|   613 Korolev Drive|        Masqat|    329|      45844|3.80658E+11|\n|        14|      1531 Sal Drive|       Esfahan|    162|      53628|6.48857E+11|\n|        15| 1542 Tarlac Parkway|      Kanagawa|    440|       1027|6.35297E+11|\n+----------+--------------------+--------------+-------+-----------+-----------+\nonly showing top 15 rows\n\n"
     ]
    }
   ],
   "source": [
    "#Dropping last_update column and address2 column from address table\n",
    "df1 = df1.drop(\"last_update\")\n",
    "df1 = df1.drop(\"address2\")\n",
    "df2 = df2.drop(\"last_update\")\n",
    "df3 = df3.drop(\"last_update\")\n",
    "df4 = df4.drop(\"last_update\")\n",
    "df5 = df5.drop(\"last_update\")\n",
    "\n",
    "df1.show(15)"
   ]
  },
  {
   "cell_type": "code",
   "execution_count": 0,
   "metadata": {
    "application/vnd.databricks.v1+cell": {
     "cellMetadata": {
      "byteLimit": 2048000,
      "rowLimit": 10000
     },
     "inputWidgets": {},
     "nuid": "2cbae2f0-936a-46be-8ef3-b251a7c45ae0",
     "showTitle": false,
     "tableResultSettingsMap": {},
     "title": ""
    }
   },
   "outputs": [],
   "source": [
    "#Enable AQE\n",
    "spark.conf.set(\"spark.sql.adaptive.enabled\", \"true\")"
   ]
  },
  {
   "cell_type": "code",
   "execution_count": 0,
   "metadata": {
    "application/vnd.databricks.v1+cell": {
     "cellMetadata": {
      "byteLimit": 2048000,
      "rowLimit": 10000
     },
     "inputWidgets": {},
     "nuid": "3ab818ee-b314-4239-89c0-b1365215c426",
     "showTitle": false,
     "tableResultSettingsMap": {},
     "title": ""
    }
   },
   "outputs": [
    {
     "output_type": "stream",
     "name": "stdout",
     "output_type": "stream",
     "text": [
      "Number of partitions in df1: 1\nNumber of partitions in df2: 1\nNumber of partitions in df3: 1\n"
     ]
    }
   ],
   "source": [
    "#Checking existing partitions\n",
    "mydefault_partitions = df1.rdd.getNumPartitions()\n",
    "mydefault_partitions = df2.rdd.getNumPartitions()\n",
    "mydefault_partitions = df3.rdd.getNumPartitions()\n",
    "\n",
    "print(f\"Number of partitions in df1: {mydefault_partitions}\")\n",
    "print(f\"Number of partitions in df2: {mydefault_partitions}\")\n",
    "print(f\"Number of partitions in df3: {mydefault_partitions}\")"
   ]
  },
  {
   "cell_type": "code",
   "execution_count": 0,
   "metadata": {
    "application/vnd.databricks.v1+cell": {
     "cellMetadata": {
      "byteLimit": 2048000,
      "rowLimit": 10000
     },
     "inputWidgets": {},
     "nuid": "d72738e8-5e15-4575-b46a-d81a302fbf86",
     "showTitle": false,
     "tableResultSettingsMap": {},
     "title": ""
    }
   },
   "outputs": [
    {
     "output_type": "stream",
     "name": "stdout",
     "output_type": "stream",
     "text": [
      "603\n601\n109\n"
     ]
    }
   ],
   "source": [
    "#Calculating number of rows in the table\n",
    "\n",
    "row_count1 = df1.count()\n",
    "row_count2 = df2.count()\n",
    "row_count3 = df3.count()\n",
    "\n",
    "print(row_count1)\n",
    "print(row_count2)\n",
    "print(row_count3)"
   ]
  },
  {
   "cell_type": "code",
   "execution_count": 0,
   "metadata": {
    "application/vnd.databricks.v1+cell": {
     "cellMetadata": {
      "byteLimit": 2048000,
      "rowLimit": 10000
     },
     "inputWidgets": {},
     "nuid": "e03f4741-de70-417e-81a0-c921258ef97a",
     "showTitle": false,
     "tableResultSettingsMap": {},
     "title": ""
    }
   },
   "outputs": [
    {
     "output_type": "stream",
     "name": "stdout",
     "output_type": "stream",
     "text": [
      "Number of partitions: 12\nNumber of partitions: 12\nNumber of partitions: 10\n"
     ]
    }
   ],
   "source": [
    "#Increasing Number of partitions\n",
    "\n",
    "df1=df1.repartition(12)\n",
    "df2=df2.repartition(12)\n",
    "df3=df3.repartition(10)\n",
    "print(f\"Number of partitions: {df1.rdd.getNumPartitions()}\")\n",
    "print(f\"Number of partitions: {df2.rdd.getNumPartitions()}\")\n",
    "print(f\"Number of partitions: {df3.rdd.getNumPartitions()}\")"
   ]
  },
  {
   "cell_type": "code",
   "execution_count": 0,
   "metadata": {
    "application/vnd.databricks.v1+cell": {
     "cellMetadata": {
      "byteLimit": 2048000,
      "rowLimit": 10000
     },
     "inputWidgets": {},
     "nuid": "3eb236b2-7950-4e0a-ad7a-7158fa0605ee",
     "showTitle": false,
     "tableResultSettingsMap": {},
     "title": ""
    }
   },
   "outputs": [
    {
     "output_type": "stream",
     "name": "stdout",
     "output_type": "stream",
     "text": [
      "Number of partitions: 5\n"
     ]
    }
   ],
   "source": [
    "#coalesce\n",
    "df3=df3.coalesce(5)\n",
    "\n",
    "print(f\"Number of partitions: {df3.rdd.getNumPartitions()}\")"
   ]
  },
  {
   "cell_type": "code",
   "execution_count": 0,
   "metadata": {
    "application/vnd.databricks.v1+cell": {
     "cellMetadata": {
      "byteLimit": 2048000,
      "rowLimit": 10000
     },
     "inputWidgets": {},
     "nuid": "c6e6c3a5-587c-4cd0-9e70-285cd0b4c743",
     "showTitle": false,
     "tableResultSettingsMap": {},
     "title": ""
    }
   },
   "outputs": [
    {
     "output_type": "stream",
     "name": "stdout",
     "output_type": "stream",
     "text": [
      "/mnt/dlretail/curated has been unmounted.\nUnmounted existing mount at /mnt/dlretail/curated\nMounted raw successfully at /mnt/dlretail/curated\n"
     ]
    }
   ],
   "source": [
    "#Mounting curated container\n",
    "\n",
    "storage_account_name = \"dlretail\"\n",
    "container_name = \"raw\"\n",
    "processed_container_name = \"curated\"\n",
    "\n",
    "mount_point = f\"/mnt/{storage_account_name}/{processed_container_name}\"\n",
    "\n",
    "if any(mount.mountPoint == mount_point for mount in dbutils.fs.mounts()):\n",
    "    # Unmount the existing mount point\n",
    "    dbutils.fs.unmount(mount_point)\n",
    "    print(f\"Unmounted existing mount at {mount_point}\")\n",
    "\n",
    "try:\n",
    "    dbutils.fs.mount(\n",
    "        source=f\"abfss://{processed_container_name}@{storage_account_name}.dfs.core.windows.net/\",\n",
    "        mount_point=mount_point,\n",
    "        extra_configs=configs\n",
    "    )\n",
    "    print(f\"Mounted {container_name} successfully at {mount_point}\")\n",
    "except Exception as e:\n",
    "    print(f\"Error mounting: {e}\")"
   ]
  },
  {
   "cell_type": "code",
   "execution_count": 0,
   "metadata": {
    "application/vnd.databricks.v1+cell": {
     "cellMetadata": {
      "byteLimit": 2048000,
      "rowLimit": 10000
     },
     "inputWidgets": {},
     "nuid": "ed208e1c-de6f-4591-9d8d-902c2affab8b",
     "showTitle": false,
     "tableResultSettingsMap": {},
     "title": ""
    }
   },
   "outputs": [
    {
     "output_type": "execute_result",
     "data": {
      "text/plain": [
       "[]"
      ]
     },
     "execution_count": 45,
     "metadata": {},
     "output_type": "execute_result"
    }
   ],
   "source": [
    "#Checking the container contents\n",
    "dbutils.fs.ls(\"/mnt/dlretail/curated\")"
   ]
  },
  {
   "cell_type": "code",
   "execution_count": 0,
   "metadata": {
    "application/vnd.databricks.v1+cell": {
     "cellMetadata": {
      "byteLimit": 2048000,
      "rowLimit": 10000
     },
     "inputWidgets": {},
     "nuid": "9e76754b-2ef6-4b56-9c1f-232258bc7cc4",
     "showTitle": false,
     "tableResultSettingsMap": {},
     "title": ""
    }
   },
   "outputs": [
    {
     "output_type": "stream",
     "name": "stdout",
     "output_type": "stream",
     "text": [
      "+----------+--------------------+--------+-------+-----------+-----------+\n|address_id|             address|district|city_id|postal_code|      phone|\n+----------+--------------------+--------+-------+-----------+-----------+\n|         4|1411 Lillydale Drive|     QLD|    576|       NULL| 6172235589|\n|        16|    808 Bhopal Manor| Haryana|    582|      10672|4.65888E+11|\n|        28|       96 Tafuna Way|  Crdoba|    128|      99865| 9.3473E+11|\n+----------+--------------------+--------+-------+-----------+-----------+\nonly showing top 3 rows\n\n+-------+-----------+----------+\n|city_id|       city|country_id|\n+-------+-----------+----------+\n|      3|  Abu Dhabi|       101|\n|     15| al-Qadarif|        89|\n|     27|Antofagasta|        22|\n+-------+-----------+----------+\nonly showing top 3 rows\n\n+----------+----------+\n|country_id|   country|\n+----------+----------+\n|         2|   Algeria|\n|        12|Bangladesh|\n|        22|     Chile|\n+----------+----------+\nonly showing top 3 rows\n\n+-----------+--------+----------+---------+--------------------+----------+----------+-------------------+------+\n|customer_id|store_id|first_name|last_name|               email|address_id|activebool|        create_date|active|\n+-----------+--------+----------+---------+--------------------+----------+----------+-------------------+------+\n|        524|       1|     Jared|      Ely|jared.ely@sakilac...|       530|      TRUE|2006-02-14 00:00:00|     1|\n|          1|       1|      Mary|    Smith|mary.smith@sakila...|         5|      TRUE|2006-02-14 00:00:00|     1|\n|          2|       1|  Patricia|  Johnson|patricia.johnson@...|         6|      TRUE|2006-02-14 00:00:00|     1|\n+-----------+--------+----------+---------+--------------------+----------+----------+-------------------+------+\nonly showing top 3 rows\n\n+------+----------+---------+-------------------+-------------------+------+\n|emp_id|first_name|last_name|          birthdate|          hire_date|Salary|\n+------+----------+---------+-------------------+-------------------+------+\n|     3|      Jose| Portilla|1997-11-03 00:00:00|2010-01-01 00:00:00| 100.0|\n|     4|       Sam|    Smith|1995-11-03 00:00:00|2008-01-01 00:00:00| 100.0|\n|     5|       Sid|    Peter|1996-11-03 00:00:00|2020-01-01 00:00:00|  87.0|\n+------+----------+---------+-------------------+-------------------+------+\n\n"
     ]
    }
   ],
   "source": [
    "from delta.tables import DeltaTable\n",
    "\n",
    "# Define the base path for the curated container\n",
    "curated_container_path = \"/mnt/dlretail/curated\"\n",
    "\n",
    "# Write the updated DataFrame to Azure Data Lake Storage in delta format\n",
    "df1.write.format(\"delta\").mode(\"append\").save(f\"{curated_container_path}/df1\")\n",
    "df2.write.format(\"delta\").mode(\"append\").save(f\"{curated_container_path}/df2\")\n",
    "df3.write.format(\"delta\").mode(\"append\").save(f\"{curated_container_path}/df3\")\n",
    "df4.write.format(\"delta\").mode(\"append\").save(f\"{curated_container_path}/df4\")\n",
    "df5.write.format(\"delta\").mode(\"append\").save(f\"{curated_container_path}/df5\")\n",
    "\n",
    "df1.show(3)\n",
    "df2.show(3)\n",
    "df3.show(3)\n",
    "df4.show(3)\n",
    "df5.show(3)"
   ]
  },
  {
   "cell_type": "code",
   "execution_count": 0,
   "metadata": {
    "application/vnd.databricks.v1+cell": {
     "cellMetadata": {},
     "inputWidgets": {},
     "nuid": "2a57cd89-d26d-46f3-9d3c-429e961e00ea",
     "showTitle": false,
     "tableResultSettingsMap": {},
     "title": ""
    }
   },
   "outputs": [],
   "source": []
  }
 ],
 "metadata": {
  "application/vnd.databricks.v1+notebook": {
   "dashboards": [],
   "environmentMetadata": {
    "base_environment": "",
    "client": "1"
   },
   "language": "python",
   "notebookMetadata": {
    "pythonIndentUnit": 4
   },
   "notebookName": "Transform Data",
   "widgets": {}
  },
  "language_info": {
   "name": "python"
  }
 },
 "nbformat": 4,
 "nbformat_minor": 0
}