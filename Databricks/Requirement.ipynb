{
 "cells": [
  {
   "cell_type": "code",
   "execution_count": 0,
   "metadata": {
    "application/vnd.databricks.v1+cell": {
     "cellMetadata": {
      "byteLimit": 2048000,
      "rowLimit": 10000
     },
     "inputWidgets": {},
     "nuid": "e9d02413-36ca-496f-9252-d21fc5de805b",
     "showTitle": false,
     "tableResultSettingsMap": {},
     "title": ""
    }
   },
   "outputs": [
    {
     "output_type": "execute_result",
     "data": {
      "text/plain": [
       "[SecretMetadata(key='clientsecretretail')]"
      ]
     },
     "execution_count": 1,
     "metadata": {},
     "output_type": "execute_result"
    }
   ],
   "source": [
    "dbutils.secrets.list('dbclientretail')"
   ]
  },
  {
   "cell_type": "code",
   "execution_count": 0,
   "metadata": {
    "application/vnd.databricks.v1+cell": {
     "cellMetadata": {
      "byteLimit": 2048000,
      "rowLimit": 10000
     },
     "inputWidgets": {},
     "nuid": "648f4b4e-5837-476b-896c-1ea18c542474",
     "showTitle": false,
     "tableResultSettingsMap": {},
     "title": ""
    }
   },
   "outputs": [],
   "source": [
    "secret=dbutils.secrets.get('dbclientretail','clientsecretretail')"
   ]
  },
  {
   "cell_type": "code",
   "execution_count": 0,
   "metadata": {
    "application/vnd.databricks.v1+cell": {
     "cellMetadata": {
      "byteLimit": 2048000,
      "rowLimit": 10000
     },
     "inputWidgets": {},
     "nuid": "10be717f-8dfb-40c5-91e8-e81f56bb3956",
     "showTitle": false,
     "tableResultSettingsMap": {},
     "title": ""
    }
   },
   "outputs": [],
   "source": [
    "# Service Principal credentials and configurations\n",
    "client_id= \"6e518dc2-6192-4de7-bfd8-a2081c0ed276\"\n",
    "client_secret = secret\n",
    "directory_id= \"80afa3f4-1563-46f1-a268-04f5fb610dd9\"\n",
    "\n",
    "# Access storage account using Service Principal\n",
    "configs = {\"fs.azure.account.auth.type\": \"OAuth\",\n",
    "           \"fs.azure.account.oauth.provider.type\": \"org.apache.hadoop.fs.azurebfs.oauth2.ClientCredsTokenProvider\",\n",
    "           \"fs.azure.account.oauth2.client.id\": f\"{client_id}\",\n",
    "           \"fs.azure.account.oauth2.client.secret\": f\"{client_secret}\",\n",
    "           \"fs.azure.account.oauth2.client.endpoint\": f\"https://login.microsoftonline.com/{directory_id}/oauth2/token\"}\n"
   ]
  },
  {
   "cell_type": "code",
   "execution_count": 0,
   "metadata": {
    "application/vnd.databricks.v1+cell": {
     "cellMetadata": {
      "byteLimit": 2048000,
      "rowLimit": 10000
     },
     "inputWidgets": {},
     "nuid": "b3d00db2-a046-418a-bf2a-9717c0e74a12",
     "showTitle": false,
     "tableResultSettingsMap": {},
     "title": ""
    }
   },
   "outputs": [
    {
     "output_type": "stream",
     "name": "stdout",
     "output_type": "stream",
     "text": [
      "/mnt/dlretail/curated has been unmounted.\nUnmounted existing mount at /mnt/dlretail/curated\nMounted raw successfully at /mnt/dlretail/curated\n"
     ]
    }
   ],
   "source": [
    "#Mounting curated container\n",
    "\n",
    "storage_account_name = \"dlretail\"\n",
    "container_name = \"raw\"\n",
    "processed_container_name = \"curated\"\n",
    "\n",
    "mount_point = f\"/mnt/{storage_account_name}/{processed_container_name}\"\n",
    "\n",
    "if any(mount.mountPoint == mount_point for mount in dbutils.fs.mounts()):\n",
    "    # Unmount the existing mount point\n",
    "    dbutils.fs.unmount(mount_point)\n",
    "    print(f\"Unmounted existing mount at {mount_point}\")\n",
    "\n",
    "try:\n",
    "    dbutils.fs.mount(\n",
    "        source=f\"abfss://{processed_container_name}@{storage_account_name}.dfs.core.windows.net/\",\n",
    "        mount_point=mount_point,\n",
    "        extra_configs=configs\n",
    "    )\n",
    "    print(f\"Mounted {processed_container_name} successfully at {mount_point}\")\n",
    "except Exception as e:\n",
    "    print(f\"Error mounting: {e}\")"
   ]
  },
  {
   "cell_type": "code",
   "execution_count": 0,
   "metadata": {
    "application/vnd.databricks.v1+cell": {
     "cellMetadata": {
      "byteLimit": 2048000,
      "rowLimit": 10000
     },
     "inputWidgets": {},
     "nuid": "9cf28263-631b-4709-a72f-4dd3d2d4d70f",
     "showTitle": false,
     "tableResultSettingsMap": {},
     "title": ""
    }
   },
   "outputs": [
    {
     "output_type": "execute_result",
     "data": {
      "text/plain": [
       "[FileInfo(path='dbfs:/mnt/dlretail/curated/df1/', name='df1/', size=0, modificationTime=1732398377000),\n",
       " FileInfo(path='dbfs:/mnt/dlretail/curated/df2/', name='df2/', size=0, modificationTime=1732398380000),\n",
       " FileInfo(path='dbfs:/mnt/dlretail/curated/df3/', name='df3/', size=0, modificationTime=1732398382000),\n",
       " FileInfo(path='dbfs:/mnt/dlretail/curated/df4/', name='df4/', size=0, modificationTime=1732398384000),\n",
       " FileInfo(path='dbfs:/mnt/dlretail/curated/df5/', name='df5/', size=0, modificationTime=1732398386000)]"
      ]
     },
     "execution_count": 5,
     "metadata": {},
     "output_type": "execute_result"
    }
   ],
   "source": [
    "#Checking the container contents\n",
    "dbutils.fs.ls(\"/mnt/dlretail/curated\")"
   ]
  },
  {
   "cell_type": "code",
   "execution_count": 0,
   "metadata": {
    "application/vnd.databricks.v1+cell": {
     "cellMetadata": {
      "byteLimit": 2048000,
      "rowLimit": 10000
     },
     "inputWidgets": {},
     "nuid": "97b96dbe-fedb-4df9-97ab-e477f00caac4",
     "showTitle": false,
     "tableResultSettingsMap": {},
     "title": ""
    }
   },
   "outputs": [
    {
     "output_type": "stream",
     "name": "stdout",
     "output_type": "stream",
     "text": [
      "+----------+--------------------+--------+-------+-----------+-----------+\n|address_id|             address|district|city_id|postal_code|      phone|\n+----------+--------------------+--------+-------+-----------+-----------+\n|         5|      1913 Hanoi Way|Nagasaki|    463|      35200|28303384290|\n|        17|  270 Amroha Parkway|Osmaniye|    384|      29610| 6.9548E+11|\n|        29|934 San Felipe de...|    Sind|    472|      99780|1.96496E+11|\n+----------+--------------------+--------+-------+-----------+-----------+\nonly showing top 3 rows\n\n+-------+--------------------+----------+\n|city_id|                city|country_id|\n+-------+--------------------+----------+\n|      6|         Addis Abeba|        31|\n|     18|Allappuzha (Allep...|        44|\n|     30|            Araatuba|        15|\n+-------+--------------------+----------+\nonly showing top 3 rows\n\n+----------+--------+\n|country_id| country|\n+----------+--------+\n|         4|  Angola|\n|        14| Bolivia|\n|        24|Colombia|\n+----------+--------+\nonly showing top 3 rows\n\n+-----------+--------+----------+---------+--------------------+----------+----------+-------------------+------+\n|customer_id|store_id|first_name|last_name|               email|address_id|activebool|        create_date|active|\n+-----------+--------+----------+---------+--------------------+----------+----------+-------------------+------+\n|        524|       1|     Jared|      Ely|jared.ely@sakilac...|       530|      TRUE|2006-02-14 00:00:00|     1|\n|          1|       1|      Mary|    Smith|mary.smith@sakila...|         5|      TRUE|2006-02-14 00:00:00|     1|\n|          2|       1|  Patricia|  Johnson|patricia.johnson@...|         6|      TRUE|2006-02-14 00:00:00|     1|\n+-----------+--------+----------+---------+--------------------+----------+----------+-------------------+------+\nonly showing top 3 rows\n\n"
     ]
    }
   ],
   "source": [
    "\n",
    "from pyspark.sql.functions import col\n",
    "\n",
    "\n",
    "# Define the curated container path\n",
    "curated_path = \"/mnt/dlretail/curated\"\n",
    "\n",
    "# Load DataFrames\n",
    "address_df = spark.read.format(\"delta\").load(f\"{curated_path}/df1\")\n",
    "city_df = spark.read.format(\"delta\").load(f\"{curated_path}/df2\")\n",
    "country_df = spark.read.format(\"delta\").load(f\"{curated_path}/df3\")\n",
    "customer_df = spark.read.format(\"delta\").load(f\"{curated_path}/df4\")\n",
    "\n",
    "address_df.show(3)\n",
    "city_df.show(3)\n",
    "country_df.show(3)\n",
    "customer_df.show(3)"
   ]
  },
  {
   "cell_type": "code",
   "execution_count": 0,
   "metadata": {
    "application/vnd.databricks.v1+cell": {
     "cellMetadata": {
      "byteLimit": 2048000,
      "rowLimit": 10000
     },
     "inputWidgets": {},
     "nuid": "f13f7604-be30-40cf-8a05-51750ee732cb",
     "showTitle": false,
     "tableResultSettingsMap": {},
     "title": ""
    }
   },
   "outputs": [
    {
     "output_type": "stream",
     "name": "stdout",
     "output_type": "stream",
     "text": [
      "+-----------+--------+----------+---------+--------------------+----------+----------+-------------------+------+\n|customer_id|store_id|first_name|last_name|               email|address_id|activebool|        create_date|active|\n+-----------+--------+----------+---------+--------------------+----------+----------+-------------------+------+\n|        524|       1|     Jared|      Ely|jared.ely@sakilac...|       530|      TRUE|2006-02-14 00:00:00|     1|\n|          1|       1|      Mary|    Smith|mary.smith@sakila...|         5|      TRUE|2006-02-14 00:00:00|     1|\n|          2|       1|  Patricia|  Johnson|patricia.johnson@...|         6|      TRUE|2006-02-14 00:00:00|     1|\n|          3|       1|     Linda| Williams|linda.williams@sa...|         7|      TRUE|2006-02-14 00:00:00|     1|\n|          4|       2|   Barbara|    Jones|barbara.jones@sak...|         8|      TRUE|2006-02-14 00:00:00|     1|\n+-----------+--------+----------+---------+--------------------+----------+----------+-------------------+------+\nonly showing top 5 rows\n\n"
     ]
    }
   ],
   "source": [
    "# Filter active customers\n",
    "active_customers_df = customer_df.filter(customer_df.activebool == True)\n",
    "active_customers_df.show(5)"
   ]
  },
  {
   "cell_type": "code",
   "execution_count": 0,
   "metadata": {
    "application/vnd.databricks.v1+cell": {
     "cellMetadata": {
      "byteLimit": 2048000,
      "rowLimit": 10000
     },
     "inputWidgets": {},
     "nuid": "34171a6f-9a68-41c4-ab58-bca40b56c10d",
     "showTitle": false,
     "tableResultSettingsMap": {},
     "title": ""
    }
   },
   "outputs": [
    {
     "output_type": "stream",
     "name": "stdout",
     "output_type": "stream",
     "text": [
      "+-----------+--------+----------+---------+--------------------+----------+----------+-------------------+------+----------+-------------------+-----------+-------+-----------+-----------+-------+-----------------+----------+----------+-------+\n|customer_id|store_id|first_name|last_name|               email|address_id|activebool|        create_date|active|address_id|            address|   district|city_id|postal_code|      phone|city_id|             city|country_id|country_id|country|\n+-----------+--------+----------+---------+--------------------+----------+----------+-------------------+------+----------+-------------------+-----------+-------+-----------+-----------+-------+-----------------+----------+----------+-------+\n|         11|       2|      Lisa| Anderson|lisa.anderson@sak...|        15|      TRUE|2006-02-14 00:00:00|     1|        15|1542 Tarlac Parkway|   Kanagawa|    440|       1027|6.35297E+11|    440|       Sagamihara|        50|        50|  Japan|\n|         23|       2|     Sarah|    Lewis|sarah.lewis@sakil...|        27|      TRUE|2006-02-14 00:00:00|     1|        27|1780 Hino Boulevard|    Liepaja|    303|       7716|9.02731E+11|    303|          Liepaja|        54|        54| Latvia|\n|         35|       2|  Virginia|    Green|virginia.green@sa...|        39|      TRUE|2006-02-14 00:00:00|     1|        39|   391 Callao Drive|Midi-Pyrnes|    544|      34021|4.40512E+11|    544|         Toulouse|        34|        34| France|\n|         47|       1|   Frances|   Parker|frances.parker@sa...|        51|      TRUE|2006-02-14 00:00:00|     1|        51|  686 Garland Manor|       Cear|    247|      52535|69493378813|    247|Juazeiro do Norte|        15|        15| Brazil|\n|         59|       1|    Cheryl|   Murphy|cheryl.murphy@sak...|        63|      TRUE|2006-02-14 00:00:00|     1|        63|1213 Ranchi Parkway|  Karnataka|    350|      94352|8.00024E+11|    350|           Mysore|        44|        44|  India|\n+-----------+--------+----------+---------+--------------------+----------+----------+-------------------+------+----------+-------------------+-----------+-------+-----------+-----------+-------+-----------------+----------+----------+-------+\nonly showing top 5 rows\n\n"
     ]
    }
   ],
   "source": [
    "# Perform joins\n",
    "customer_address_df = active_customers_df.join(\n",
    "    address_df, active_customers_df.address_id == address_df.address_id, \"inner\")\n",
    "\n",
    "customer_address_city_df = customer_address_df.join(\n",
    "    city_df, customer_address_df.city_id == city_df.city_id, \"inner\"\n",
    ")\n",
    "\n",
    "final_df = customer_address_city_df.join(\n",
    "    country_df, customer_address_city_df.country_id == country_df.country_id, \"inner\"\n",
    ")\n",
    "final_df.show(5)"
   ]
  },
  {
   "cell_type": "code",
   "execution_count": 0,
   "metadata": {
    "application/vnd.databricks.v1+cell": {
     "cellMetadata": {
      "byteLimit": 2048000,
      "rowLimit": 10000
     },
     "inputWidgets": {},
     "nuid": "997482ad-c9dc-4a3e-b03a-23fbc5d497a8",
     "showTitle": false,
     "tableResultSettingsMap": {},
     "title": ""
    }
   },
   "outputs": [
    {
     "output_type": "stream",
     "name": "stdout",
     "output_type": "stream",
     "text": [
      "+-----------+----------+---------+--------------------+------+-------------------+-----------+-----------+-----------+-----------------+-------+\n|customer_id|first_name|last_name|               email|active|            address|   district|postal_code|      phone|             city|country|\n+-----------+----------+---------+--------------------+------+-------------------+-----------+-----------+-----------+-----------------+-------+\n|         11|      Lisa| Anderson|lisa.anderson@sak...|  TRUE|1542 Tarlac Parkway|   Kanagawa|       1027|6.35297E+11|       Sagamihara|  Japan|\n|         23|     Sarah|    Lewis|sarah.lewis@sakil...|  TRUE|1780 Hino Boulevard|    Liepaja|       7716|9.02731E+11|          Liepaja| Latvia|\n|         35|  Virginia|    Green|virginia.green@sa...|  TRUE|   391 Callao Drive|Midi-Pyrnes|      34021|4.40512E+11|         Toulouse| France|\n|         47|   Frances|   Parker|frances.parker@sa...|  TRUE|  686 Garland Manor|       Cear|      52535|69493378813|Juazeiro do Norte| Brazil|\n|         59|    Cheryl|   Murphy|cheryl.murphy@sak...|  TRUE|1213 Ranchi Parkway|  Karnataka|      94352|8.00024E+11|           Mysore|  India|\n+-----------+----------+---------+--------------------+------+-------------------+-----------+-----------+-----------+-----------------+-------+\nonly showing top 5 rows\n\n"
     ]
    }
   ],
   "source": [
    "# Select columns\n",
    "result_df = final_df.select(\n",
    "    active_customers_df.customer_id,\n",
    "    active_customers_df.first_name,\n",
    "    active_customers_df.last_name,\n",
    "    active_customers_df.email,\n",
    "    active_customers_df.activebool.alias(\"active\"),\n",
    "    address_df.address,\n",
    "    address_df.district,\n",
    "    address_df.postal_code,\n",
    "    address_df.phone,\n",
    "    city_df.city,\n",
    "    country_df.country\n",
    ")\n",
    "\n",
    "result_df.show(5)"
   ]
  },
  {
   "cell_type": "code",
   "execution_count": 0,
   "metadata": {
    "application/vnd.databricks.v1+cell": {
     "cellMetadata": {
      "byteLimit": 2048000,
      "rowLimit": 10000
     },
     "inputWidgets": {},
     "nuid": "b088d359-3770-4cbc-906a-59a0a1011937",
     "showTitle": false,
     "tableResultSettingsMap": {},
     "title": ""
    }
   },
   "outputs": [],
   "source": [
    "from pyspark.sql.types import *\n",
    "\n",
    "# Define the schema for result_df\n",
    "result_schema = StructType([\n",
    "    StructField(\"customer_id\", IntegerType(), True),\n",
    "    StructField(\"first_name\", StringType(), True),\n",
    "    StructField(\"last_name\", StringType(), True),\n",
    "    StructField(\"email\", StringType(), True),\n",
    "    StructField(\"active\", BooleanType(), True),\n",
    "    StructField(\"address\", StringType(), True),\n",
    "    StructField(\"district\", StringType(), True),\n",
    "    StructField(\"postal_code\", StringType(), True),\n",
    "    StructField(\"phone\", StringType(), True),\n",
    "    StructField(\"city\", StringType(), True),\n",
    "    StructField(\"country\", StringType(), True)\n",
    "])"
   ]
  },
  {
   "cell_type": "code",
   "execution_count": 0,
   "metadata": {
    "application/vnd.databricks.v1+cell": {
     "cellMetadata": {
      "byteLimit": 2048000,
      "rowLimit": 10000
     },
     "inputWidgets": {},
     "nuid": "e86e4516-d4fc-4363-8bef-63eec0c64e78",
     "showTitle": false,
     "tableResultSettingsMap": {},
     "title": ""
    }
   },
   "outputs": [
    {
     "output_type": "stream",
     "name": "stdout",
     "output_type": "stream",
     "text": [
      "/mnt/dlretail/staging has been unmounted.\nUnmounted existing mount at /mnt/dlretail/staging\nMounted staging successfully at /mnt/dlretail/staging\n"
     ]
    }
   ],
   "source": [
    "#Mounting staging container\n",
    "\n",
    "storage_account_name = \"dlretail\"\n",
    "container_name = \"staging\"\n",
    "\n",
    "mount_point = f\"/mnt/{storage_account_name}/{container_name}\"\n",
    "\n",
    "if any(mount.mountPoint == mount_point for mount in dbutils.fs.mounts()):\n",
    "    # Unmount the existing mount point\n",
    "    dbutils.fs.unmount(mount_point)\n",
    "    print(f\"Unmounted existing mount at {mount_point}\")\n",
    "\n",
    "try:\n",
    "    dbutils.fs.mount(\n",
    "        source=f\"abfss://{container_name}@{storage_account_name}.dfs.core.windows.net/\",\n",
    "        mount_point=mount_point,\n",
    "        extra_configs=configs\n",
    "    )\n",
    "    print(f\"Mounted {container_name} successfully at {mount_point}\")\n",
    "except Exception as e:\n",
    "    print(f\"Error mounting: {e}\")"
   ]
  },
  {
   "cell_type": "code",
   "execution_count": 0,
   "metadata": {
    "application/vnd.databricks.v1+cell": {
     "cellMetadata": {
      "byteLimit": 2048000,
      "rowLimit": 10000
     },
     "inputWidgets": {},
     "nuid": "74b6aeb4-2006-43f3-90d8-8bd3e57c894b",
     "showTitle": false,
     "tableResultSettingsMap": {},
     "title": ""
    }
   },
   "outputs": [
    {
     "output_type": "stream",
     "name": "stdout",
     "output_type": "stream",
     "text": [
      "Data saved successfully in Delta format in the staging container.\n+-----------+----------+----------+--------------------+------+--------------------+--------------------+-----------+-----------+--------------------+------------------+\n|customer_id|first_name| last_name|               email|active|             address|            district|postal_code|      phone|                city|           country|\n+-----------+----------+----------+--------------------+------+--------------------+--------------------+-----------+-----------+--------------------+------------------+\n|         12|     Nancy|    Thomas|nancy.thomas@saki...|  TRUE|    808 Bhopal Manor|             Haryana|      10672|4.65888E+11|        Yamuna Nagar|             India|\n|         24|  Kimberly|       Lee|kimberly.lee@saki...|  TRUE|       96 Tafuna Way|              Crdoba|      99865| 9.3473E+11|              Crdoba|         Argentina|\n|         36|  Kathleen|     Adams|kathleen.adams@sa...|  TRUE|334 Munger (Mongh...|             Markazi|      38145|4.81183E+11|                Arak|              Iran|\n|         48|       Ann|     Evans|ann.evans@sakilac...|  TRUE|   909 Garland Manor|           Tatarstan|      69367|  7.058E+11|          Niznekamsk|Russian Federation|\n|         60|   Mildred|    Bailey|mildred.bailey@sa...|  TRUE|      81 Hodeida Way|           Rajasthan|      55561|2.50768E+11|              Jaipur|             India|\n|         72|   Theresa|    Watson|theresa.watson@sa...|  TRUE|89 Allappuzha (Al...|National Capital Reg|      75444|  2.558E+11|              Taguig|       Philippines|\n|         84|      Sara|     Perry|sara.perry@sakila...|  TRUE|125 Citt del Vati...|              Puebla|      67912|48417642933|             Atlixco|            Mexico|\n|         96|     Diana| Alexander|diana.alexander@s...|  TRUE|    1308 Arecibo Way|             Georgia|      30695| 6171054059|Augusta-Richmond ...|     United States|\n|        108|     Tracy|      Cole|tracy.cole@sakila...|  TRUE|1002 Ahmadnagar M...|               Mxico|      93026|3.71491E+11|        Huixquilucan|            Mexico|\n|        120|    Sylvia|     Ortiz|sylvia.ortiz@saki...|  TRUE|      241 Mosul Lane|           Risaralda|      76157|7.65345E+11|       Dos Quebradas|          Colombia|\n|        132|    Esther|  Crawford|esther.crawford@s...|  TRUE|      898 Belm Manor|          Free State|      49757|7.07169E+11|          Botshabelo|      South Africa|\n|        144|     Clara|      Shaw|clara.shaw@sakila...|  TRUE| 1027 Songkhla Manor|               Minsk|      30861| 5.6366E+11|           Molodetno|           Belarus|\n|        156|    Bertha|  Ferguson|bertha.ferguson@s...|  TRUE|   1367 Yantai Manor|        Ondo & Ekiti|      21294|8.89538E+11|                Ondo|           Nigeria|\n|        168|    Regina|     Berry|regina.berry@saki...|  TRUE|      475 Atinsk Way|               Gansu|      59571|2.01706E+11|            Jinchang|             China|\n|        180|     Stacy|Cunningham|stacy.cunningham@...|  TRUE|1410 Benin City P...|           Risaralda|      29747| 1.0415E+11|             Pereira|          Colombia|\n|        192|    Laurie|  Lawrence|laurie.lawrence@s...|  TRUE|9 San Miguel de T...|       Uttar Pradesh|      90845|9.56189E+11|           Firozabad|             India|\n|        204|  Rosemary|   Schmidt|rosemary.schmidt@...|  TRUE|1215 Pyongyang Pa...|                Usak|      25238|6.46237E+11|                Usak|            Turkey|\n|        216|   Natalie|     Meyer|natalie.meyer@sak...|  TRUE|  1201 Qomsheh Manor|                Gois|      21464|8.73492E+11| Aparecida de Goinia|            Brazil|\n|        228|   Allison|   Stanley|allison.stanley@s...|  TRUE|  754 Valencia Place|          Phnom Penh|      87911|5.94319E+11|          Phnom Penh|          Cambodia|\n|        240|   Marlene|     Welch|marlene.welch@sak...|  TRUE|1148 Saarbrcken P...|           Fukushima|       1921|1.37773E+11|               Iwaki|             Japan|\n+-----------+----------+----------+--------------------+------+--------------------+--------------------+-----------+-----------+--------------------+------------------+\nonly showing top 20 rows\n\n"
     ]
    }
   ],
   "source": [
    "\n",
    "# Define the staging container path\n",
    "staging_path = \"/mnt/dlretail/staging\"\n",
    "\n",
    "# Write the DataFrame in Delta format\n",
    "result_df.write.format(\"delta\").mode(\"append\").save(staging_path+\"/active_customers\")\n",
    "\n",
    "print(\"Data saved successfully in Delta format in the staging container.\")\n",
    "\n",
    "# Read the data back to verify\n",
    "staging_df = spark.read.format(\"delta\").load(staging_path + \"/active_customers\")\n",
    "\n",
    "# Show the data\n",
    "staging_df.show()"
   ]
  }
 ],
 "metadata": {
  "application/vnd.databricks.v1+notebook": {
   "dashboards": [],
   "environmentMetadata": {
    "base_environment": "",
    "client": "1"
   },
   "language": "python",
   "notebookMetadata": {
    "pythonIndentUnit": 4
   },
   "notebookName": "Requirement",
   "widgets": {}
  },
  "language_info": {
   "name": "python"
  }
 },
 "nbformat": 4,
 "nbformat_minor": 0
}